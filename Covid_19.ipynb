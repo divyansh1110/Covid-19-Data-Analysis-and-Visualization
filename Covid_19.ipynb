{
  "nbformat": 4,
  "nbformat_minor": 0,
  "metadata": {
    "colab": {
      "name": "Covid 19.ipynb",
      "provenance": []
    },
    "kernelspec": {
      "name": "python3",
      "display_name": "Python 3"
    },
    "language_info": {
      "name": "python"
    }
  },
  "cells": [
    {
      "cell_type": "markdown",
      "metadata": {
        "id": "6kFoucmQcS3i"
      },
      "source": [
        "# COVID-19 Data Analysis and Visualization\n",
        "\n"
      ]
    },
    {
      "cell_type": "markdown",
      "metadata": {
        "id": "RL9k5ErlcYDj"
      },
      "source": [
        "# What is this Notebook about?\n",
        "\n",
        "In this Jupyter notebook,I have show the step-by-step code of creating impactful visualizations and charts using  Python programming."
      ]
    },
    {
      "cell_type": "markdown",
      "metadata": {
        "id": "Q1tdMdogccjZ"
      },
      "source": [
        "# Install libraries"
      ]
    },
    {
      "cell_type": "code",
      "metadata": {
        "id": "Djb_0GFSbHBh"
      },
      "source": [
        "!pip install dash\n",
        "!pip install jupyter-dash"
      ],
      "execution_count": null,
      "outputs": []
    },
    {
      "cell_type": "markdown",
      "metadata": {
        "id": "AqsZ8pqZcj-S"
      },
      "source": [
        "# Import libraries"
      ]
    },
    {
      "cell_type": "code",
      "metadata": {
        "id": "StdMUkfZcjGS"
      },
      "source": [
        "from dash_html_components.H2 import H2\n",
        "from dash_html_components.P import P\n",
        "import pandas as pd\n",
        "import dash\n",
        "import dash_html_components as html\n",
        "import dash_core_components as dcc\n",
        "from dash.dependencies import Input, Output, State\n",
        "from jupyter_dash import JupyterDash\n",
        "import plotly.graph_objects as go\n",
        "import plotly.express as px\n",
        "from dash import no_update\n"
      ],
      "execution_count": null,
      "outputs": []
    },
    {
      "cell_type": "markdown",
      "metadata": {
        "id": "xep9GWY2cpGx"
      },
      "source": [
        "## Run the app for Visualization"
      ]
    },
    {
      "cell_type": "code",
      "metadata": {
        "colab": {
          "base_uri": "https://localhost:8080/",
          "height": 705
        },
        "id": "puP3flMZbAhX",
        "outputId": "528c6b7b-c412-4787-c33e-fc5f69162083"
      },
      "source": [
        "# Create a dash application\n",
        "app = JupyterDash(__name__)\n",
        "JupyterDash.infer_jupyter_proxy_config()\n",
        "app.config.suppress_callback_exceptions = True\n",
        "\n",
        "total_state_wise_daily_link='https://api.covid19india.org/csv/latest/state_wise_daily.csv'\n",
        "total_state_wise_daily =  pd.read_csv(total_state_wise_daily_link)\n",
        "\n",
        "\n",
        "header= ['date','Date','Status','Total','Andaman and Nicobar Islands','Andhra Pradesh','Arunachal Pradesh','Assam','Bihar',\n",
        "'Chandigarh','Chhattisgarh','Dadra and Nagar Haveli','Daman and Diu','Delhi','Goa','Gujarat','Haryana','Himachal Pradesh',\n",
        "'Jammu and Kashmir','Jharkhand','Karnataka','Kerala','Ladakh','Lakshadweep','Madhya Pradesh','Maharashtra','Manipur',\n",
        "'Meghalaya','Mizoram','Nagaland','Odisha','Puducherry','Punjab','Rajasthan','Sikkim','Tamil Nadu','Telangana','Tripura ',\n",
        " 'Uttar Pradesh','Uttarakhand','West Bengal','Unknown']\n",
        "\n",
        "total_state_wise_daily.columns=header\n",
        "\n",
        "\n",
        "\n",
        "state_list=[ 'Andaman and Nicobar Islands', 'Andhra Pradesh',  'Arunachal Pradesh','Assam','Bihar','Chandigarh','Chhattisgarh','Dadra and Nagar Haveli',\n",
        " 'Daman and Diu','Delhi','Goa','Gujarat','Haryana','Himachal Pradesh','Jammu and Kashmir','Jharkhand','Karnataka','Kerala','Ladakh',\n",
        " 'Lakshadweep','Madhya Pradesh','Maharashtra','Manipur','Meghalaya','Mizoram','Nagaland','Odisha','Puducherry','Punjab','Rajasthan',\n",
        "'Sikkim','Tamil Nadu','Telangana','Tripura ','Uttar Pradesh','Uttarakhand','West Bengal']\n",
        "\n",
        "type_list=['Confirmed','Recovered','Deceased']\n",
        "\n",
        "\n",
        "def df(state):\n",
        "     \n",
        "    coun= total_state_wise_daily[['Date','Status','Total']] \n",
        "     \n",
        "    stat=total_state_wise_daily[['Date','Status',state]]\n",
        "      \n",
        "    return coun,stat \n",
        "\n",
        "\n",
        "# Application layout\n",
        "app.layout = html.Div(children=[ \n",
        "                                \n",
        "                                 html.H2('Daily covid cases'),\n",
        "                                 html.P('Please select the state you want to view data of:- '),\n",
        "                \n",
        "                            \n",
        "                                    html.Div([ \n",
        "                                        html.Div([ html.H2('State:')]),\n",
        "                                                           dcc.Dropdown(id='state-type', \n",
        "                                                                        options=[{'label': i, 'value': i} for i in state_list],\n",
        "                                                                        placeholder=\"Select state \",\n",
        "                                                                        style={'width':'80%', 'padding':'3px', 'font-size': '20px', 'text-align-last' : 'center'}), \n",
        "                                              ], style={'display':'flex'}),\n",
        "                                    \n",
        "                                html.Div([\n",
        "                                        html.Div([ ], id='coun'),\n",
        "                                         ]),\n",
        "\n",
        "                                html.Div([\n",
        "                                        html.Div([ ], id='state'),\n",
        "                                        ]),\n",
        "\n",
        "                                ])\n",
        "\n",
        "\n",
        "                                  \n",
        "                                \n",
        "                              \n",
        "@app.callback(\n",
        "             [ \n",
        "                Output(component_id='coun', component_property='children'),\n",
        "                Output(component_id='state', component_property='children'),\n",
        "              ], \n",
        "              [Input(component_id='state-type', component_property='value'),\n",
        "              ]\n",
        "              \n",
        "              \n",
        "\n",
        "             )\n",
        "\n",
        "def get_graph(state):\n",
        "\n",
        "    co,st=df(state)    \n",
        "\n",
        "    coun_fig = px.line(co, x='Date',color='Status', y='Total', title='Total Confirmed,recovery,Deaths cases in India')\n",
        "    state_fig = px.line(st, x='Date', y=state,color='Status', title='Total Confirmed,recovery,Deaths in State')\n",
        " \n",
        "                   \n",
        "    return [\n",
        "            dcc.Graph(figure=coun_fig), \n",
        "            dcc.Graph(figure=state_fig),        \n",
        "           ]\n",
        "\n",
        "\n",
        "# Run the app\n",
        "if __name__ == '__main__': \n",
        "  app.run_server(mode=\"inline\", host=\"localhost\", debug=False, dev_tools_ui=False, dev_tools_props_check=False)"
      ],
      "execution_count": 5,
      "outputs": [
        {
          "output_type": "stream",
          "text": [
            " * Running on http://localhost:8050/ (Press CTRL+C to quit)\n",
            "127.0.0.1 - - [14/May/2021 15:10:16] \"\u001b[37mGET /_alive_d85a47c5-8c51-4e6e-b6b6-5e83d6ce3ba0 HTTP/1.1\u001b[0m\" 200 -\n"
          ],
          "name": "stderr"
        },
        {
          "output_type": "display_data",
          "data": {
            "application/javascript": [
              "(async (port, path, width, height, cache, element) => {\n",
              "    if (!google.colab.kernel.accessAllowed && !cache) {\n",
              "      return;\n",
              "    }\n",
              "    element.appendChild(document.createTextNode(''));\n",
              "    const url = await google.colab.kernel.proxyPort(port, {cache});\n",
              "    const iframe = document.createElement('iframe');\n",
              "    iframe.src = url + path;\n",
              "    iframe.height = height;\n",
              "    iframe.width = width;\n",
              "    iframe.style.border = 0;\n",
              "    element.appendChild(iframe);\n",
              "  })(8050, \"/\", \"100%\", 650, false, window.element)"
            ],
            "text/plain": [
              "<IPython.core.display.Javascript object>"
            ]
          },
          "metadata": {
            "tags": []
          }
        }
      ]
    }
  ]
}